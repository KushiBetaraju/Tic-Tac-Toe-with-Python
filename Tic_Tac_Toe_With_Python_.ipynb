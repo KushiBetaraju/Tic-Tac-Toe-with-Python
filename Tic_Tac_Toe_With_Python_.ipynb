{
  "nbformat": 4,
  "nbformat_minor": 0,
  "metadata": {
    "colab": {
      "provenance": [],
      "authorship_tag": "ABX9TyP1VFtDqZVJItFKbbI+uurF",
      "include_colab_link": true
    },
    "kernelspec": {
      "name": "python3",
      "display_name": "Python 3"
    },
    "language_info": {
      "name": "python"
    }
  },
  "cells": [
    {
      "cell_type": "markdown",
      "metadata": {
        "id": "view-in-github",
        "colab_type": "text"
      },
      "source": [
        "<a href=\"https://colab.research.google.com/github/KushiBetaraju/Tic-Tac-Toe-with-Python/blob/main/Tic_Tac_Toe_With_Python_.ipynb\" target=\"_parent\"><img src=\"https://colab.research.google.com/assets/colab-badge.svg\" alt=\"Open In Colab\"/></a>"
      ]
    },
    {
      "cell_type": "code",
      "source": [
        "import random"
      ],
      "metadata": {
        "id": "IXnpbloGiTAd"
      },
      "execution_count": null,
      "outputs": []
    },
    {
      "cell_type": "code",
      "source": [
        "print(\"Welcome to tic tac toe\")\n",
        "print(\"----------------------\")"
      ],
      "metadata": {
        "colab": {
          "base_uri": "https://localhost:8080/"
        },
        "id": "dzXD_RahAJad",
        "outputId": "b79f833b-14c5-45c8-c0b8-7e3d575a7a6b"
      },
      "execution_count": null,
      "outputs": [
        {
          "output_type": "stream",
          "name": "stdout",
          "text": [
            "Welcome to tic tac toe\n",
            "----------------------\n"
          ]
        }
      ]
    },
    {
      "cell_type": "code",
      "source": [
        "def PrintGameBoard():\n",
        "  for i in range(rows):\n",
        "    print(\"\\n+---+---+---+\")\n",
        "    print(\"|\", end = \"\")\n",
        "    for n in range(columns):\n",
        "      print(\"\",gameBoard[i][n], end=\" |\")\n",
        "  print(\"\\n+---+---+---+\")\n",
        "\n",
        "PrintGameBoard()\n"
      ],
      "metadata": {
        "colab": {
          "base_uri": "https://localhost:8080/"
        },
        "id": "liRI1zNnAp7n",
        "outputId": "0bed9dd6-0357-44c0-9418-a9f591a18974"
      },
      "execution_count": null,
      "outputs": [
        {
          "output_type": "stream",
          "name": "stdout",
          "text": [
            "\n",
            "+---+---+---+\n",
            "| 1 | 2 | 3 |\n",
            "+---+---+---+\n",
            "| 4 | 5 | 6 |\n",
            "+---+---+---+\n",
            "| 7 | 8 | 9 |\n",
            "+---+---+---+\n"
          ]
        }
      ]
    },
    {
      "cell_type": "code",
      "source": [
        "# Updating the Board:\n",
        "# Depending on the value of num, the function assigns turn to the corresponding position on the .\n",
        "\n",
        "def modifyArray(num, turn):    # num: the position where player wants to make a move (1 through 9); turn: The player's symbol (e.g., 'X' or 'O').\n",
        "  num-= 1\n",
        "  if(num == 0):\n",
        "    gameBoard[0][0] = turn  # updates the top-left cell of the board\n",
        "  elif(num == 1):\n",
        "    gameBoard[0][1] = turn  # updates the top-center cell\n",
        "  elif(num == 2):\n",
        "    gameBoard[0][2] = turn  # updates the top-right cell\n",
        "  elif(num == 3):\n",
        "    gameBoard[1][0] = turn  # updates the middle-left cell\n",
        "  elif(num == 4):\n",
        "    gameBoard[1][1] = turn  # updates the center cell\n",
        "  elif(num == 5):\n",
        "    gameBoard[1][2] = turn  # updates the middle-right cell\n",
        "  elif(num == 6):\n",
        "    gameBoard[2][0] = turn  # updates the bottom-left cell\n",
        "  elif(num == 7):\n",
        "    gameBoard[2][1] = turn  # updates the bottom-center cell\n",
        "  elif(num == 8):\n",
        "    gameBoard[2][2] = turn  # updates the bottom-right cell"
      ],
      "metadata": {
        "id": "FQqK9ea4B1gp"
      },
      "execution_count": null,
      "outputs": []
    },
    {
      "cell_type": "code",
      "source": [
        "def checkForWinner(gameBoard):\n",
        "  if (gameBoard[0][0] ==  gameBoard[0][1] ==  gameBoard[0][2] ):     # Checks the top row\n",
        "    if gameBoard[0][0] == 'X':\n",
        "      return \"X\"\n",
        "    else:\n",
        "      return \"O\"\n",
        "  elif(gameBoard[1][0] ==  gameBoard[1][1] ==  gameBoard[1][2] ):    # Checks the midle row\n",
        "    if gameBoard[1][0] == 'X':\n",
        "      return \"X\"\n",
        "    else:\n",
        "      return \"O\"\n",
        "\n",
        "  elif(gameBoard[2][0] ==  gameBoard[2][1] ==  gameBoard[2][2] ):    # Checks the bottom row\n",
        "    if gameBoard[2][0] == 'X':\n",
        "      return \"X\"\n",
        "    else:\n",
        "      return \"O\"\n",
        "  elif (gameBoard[0][0] ==  gameBoard[1][0]==  gameBoard[2][0] ):    # checks the 1st column\n",
        "    if gameBoard[0][0] == 'X':\n",
        "      return \"X\"\n",
        "    else:\n",
        "      return \"O\"\n",
        "  elif(gameBoard[0][1] ==  gameBoard[1][1] ==  gameBoard[2][1] ):    # checks the 2nd column\n",
        "    if gameBoard[0][1] == 'X':\n",
        "      return \"X\"\n",
        "    else:\n",
        "      return \"O\"\n",
        "  elif(gameBoard[0][2] ==  gameBoard[1][2] ==  gameBoard[2][2] ):    # checks the 3rd column\n",
        "    if gameBoard[0][2] == 'X':\n",
        "      return \"X\"\n",
        "    else:\n",
        "      return \"O\"\n",
        "  elif(gameBoard[0][0] == gameBoard[1][1] == gameBoard[2][2] ):\n",
        "    if gameBoard[0][0] == 'X':\n",
        "      return \"X\"\n",
        "    else:\n",
        "      return \"O\"\n",
        "  elif(gameBoard[2][0] == gameBoard[1][1] == gameBoard[0][2] ):\n",
        "    if gameBoard[2][0] == 'X':\n",
        "      return \"X\"\n",
        "    else:\n",
        "      return \"O\"\n",
        "  else:\n",
        "    return None\n"
      ],
      "metadata": {
        "id": "PFiJQI70VULx"
      },
      "execution_count": null,
      "outputs": []
    },
    {
      "cell_type": "code",
      "source": [
        "PossibleNumbers = [1,2,3,4,5,6,7,8,9]\n",
        "gameBoard = [[1,2,3], [4,5,6], [7,8,9]]\n",
        "rows = 3\n",
        "columns = 3\n",
        "\n",
        "leaveloop = False  # the loop will run until leaveloop is set to True.\n",
        "turn = 'X'         # firsyt player = player 'X'\n",
        "TurnCounter = 0    # counts the number of turns\n",
        "\n",
        "firstPlayer= 0   # 1 if the computer is going to play first or  0 means the user is going first.\n",
        "\n",
        "while(leaveloop == False):\n",
        "  if checkForWinner(gameBoard) == \"X\":\n",
        "    PrintGameBoard()\n",
        "    print(\"X has won\")\n",
        "    break\n",
        "  elif checkForWinner(gameBoard) == \"O\":\n",
        "    PrintGameBoard()\n",
        "    print(\"O has won\")\n",
        "    break\n",
        "  elif TurnCounter > 9:\n",
        "    print(\" It's a draw match\")\n",
        "    PrintGameBoard()\n",
        "    break\n",
        "\n",
        "  # It's the player turn\n",
        "  if(TurnCounter % 2 == firstPlayer):\n",
        "    PrintGameBoard()\n",
        "    numberPicked = int(input(\"\\nChoose a number [1-9]: \"))\n",
        "    if (numberPicked >=1 or numberPicked <=9):\n",
        "      modifyArray(numberPicked, 'X')\n",
        "      PossibleNumbers.remove(numberPicked)\n",
        "      TurnCounter += 1\n",
        "    else:\n",
        "      print(\"Invalid input. Please try again.\")\n",
        "  # It's the computer's turn\n",
        "  else:\n",
        "    while(True):\n",
        "      systemChoice = random.choice(PossibleNumbers)\n",
        "      print(\"\\system choice: \", systemChoice)\n",
        "      if(systemChoice in PossibleNumbers):\n",
        "        modifyArray(systemChoice, 'O')\n",
        "        PossibleNumbers.remove(systemChoice)\n",
        "        TurnCounter += 1\n",
        "        break\n"
      ],
      "metadata": {
        "id": "oPdw29TySvBk",
        "colab": {
          "base_uri": "https://localhost:8080/"
        },
        "outputId": "f3802249-1828-4ddb-c049-c4e8db2ece56"
      },
      "execution_count": null,
      "outputs": [
        {
          "output_type": "stream",
          "name": "stdout",
          "text": [
            "\n",
            "+---+---+---+\n",
            "| 1 | 2 | 3 |\n",
            "+---+---+---+\n",
            "| 4 | 5 | 6 |\n",
            "+---+---+---+\n",
            "| 7 | 8 | 9 |\n",
            "+---+---+---+\n",
            "\n",
            "Choose a number [1-9]: 5\n",
            "\\system choice:  9\n",
            "\n",
            "+---+---+---+\n",
            "| 1 | 2 | 3 |\n",
            "+---+---+---+\n",
            "| 4 | X | 6 |\n",
            "+---+---+---+\n",
            "| 7 | 8 | O |\n",
            "+---+---+---+\n",
            "\n",
            "Choose a number [1-9]: 1\n",
            "\\system choice:  2\n",
            "\n",
            "+---+---+---+\n",
            "| X | O | 3 |\n",
            "+---+---+---+\n",
            "| 4 | X | 6 |\n",
            "+---+---+---+\n",
            "| 7 | 8 | O |\n",
            "+---+---+---+\n",
            "\n",
            "Choose a number [1-9]: 4\n",
            "\\system choice:  7\n",
            "\n",
            "+---+---+---+\n",
            "| X | O | 3 |\n",
            "+---+---+---+\n",
            "| X | X | 6 |\n",
            "+---+---+---+\n",
            "| O | 8 | O |\n",
            "+---+---+---+\n",
            "\n",
            "Choose a number [1-9]: 6\n",
            "\n",
            "+---+---+---+\n",
            "| X | O | 3 |\n",
            "+---+---+---+\n",
            "| X | X | X |\n",
            "+---+---+---+\n",
            "| O | 8 | O |\n",
            "+---+---+---+\n",
            "X has won\n"
          ]
        }
      ]
    }
  ]
}